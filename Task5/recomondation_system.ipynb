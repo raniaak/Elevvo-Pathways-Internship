{
 "cells": [
  {
   "cell_type": "code",
   "execution_count": 1,
   "id": "cb550a8c",
   "metadata": {},
   "outputs": [],
   "source": [
    "import pandas as pd    \n"
   ]
  },
  {
   "cell_type": "code",
   "execution_count": 2,
   "id": "c4c73cf3",
   "metadata": {},
   "outputs": [],
   "source": [
    "#Charger les fichiers\n",
    "\n",
    "# Ratings (u.data)\n",
    "\n",
    "cols_ratings = ['user_id','movie_id','rating','timestamp']\n",
    "ratings = pd.read_csv(\"ml-100k/u.data\", sep='\\t', names=cols_ratings)\n",
    "# Genres (u.genre)\n",
    "genres = []\n",
    "with open(\"ml-100k/u.genre\", \"r\") as f:\n",
    "    for line in f:\n",
    "        if line.strip():\n",
    "            g, idx = line.strip().split('|')\n",
    "            genres.append(g)\n",
    "# Movies (u.item)\n",
    "cols_items = ['movie_id','title','release_date','video_release_date','imdb_url'] + genres\n",
    "movies = pd.read_csv(\"ml-100k/u.item\", sep='|', names=cols_items, encoding=\"latin-1\")\n",
    "\n",
    "# Users (u.user)\n",
    "cols_users = ['user_id','age','gender','occupation','zip_code']\n",
    "users = pd.read_csv(\"ml-100k/u.user\", sep='|', names=cols_users)"
   ]
  },
  {
   "cell_type": "code",
   "execution_count": 3,
   "id": "335d57a4",
   "metadata": {},
   "outputs": [
    {
     "name": "stdout",
     "output_type": "stream",
     "text": [
      "Liste des genres détectés : ['unknown', 'Action', 'Adventure', 'Animation', \"Children's\", 'Comedy', 'Crime', 'Documentary', 'Drama', 'Fantasy', 'Film-Noir', 'Horror', 'Musical', 'Mystery', 'Romance', 'Sci-Fi', 'Thriller', 'War', 'Western']\n"
     ]
    }
   ],
   "source": [
    "print(\"Liste des genres détectés :\", genres)"
   ]
  },
  {
   "cell_type": "code",
   "execution_count": 4,
   "id": "a5d00a1e",
   "metadata": {},
   "outputs": [
    {
     "name": "stdout",
     "output_type": "stream",
     "text": [
      "Genres trouvés dans movies (count) : 19\n",
      "Extrait des colonnes genres : ['unknown', 'Action', 'Adventure', 'Animation', \"Children's\", 'Comedy', 'Crime', 'Documentary', 'Drama', 'Fantasy']\n"
     ]
    }
   ],
   "source": [
    "genre_cols_in_movies = [c for c in movies.columns if c in genres]\n",
    "print(\"Genres trouvés dans movies (count) :\", len(genre_cols_in_movies))\n",
    "print(\"Extrait des colonnes genres :\", genre_cols_in_movies[:10])\n"
   ]
  },
  {
   "cell_type": "code",
   "execution_count": 5,
   "id": "4e521f4a",
   "metadata": {},
   "outputs": [
    {
     "name": "stdout",
     "output_type": "stream",
     "text": [
      "Dtypes des colonnes genres (avant conversion) :\n",
      "unknown        int64\n",
      "Action         int64\n",
      "Adventure      int64\n",
      "Animation      int64\n",
      "Children's     int64\n",
      "Comedy         int64\n",
      "Crime          int64\n",
      "Documentary    int64\n",
      "Drama          int64\n",
      "Fantasy        int64\n",
      "Film-Noir      int64\n",
      "Horror         int64\n",
      "Musical        int64\n",
      "Mystery        int64\n",
      "Romance        int64\n",
      "Sci-Fi         int64\n",
      "Thriller       int64\n",
      "War            int64\n",
      "Western        int64\n",
      "dtype: object\n"
     ]
    }
   ],
   "source": [
    "print(\"Dtypes des colonnes genres (avant conversion) :\")\n",
    "print(movies[genres].dtypes)   # "
   ]
  },
  {
   "cell_type": "code",
   "execution_count": 6,
   "id": "bd913be2",
   "metadata": {},
   "outputs": [
    {
     "name": "stdout",
     "output_type": "stream",
     "text": [
      "Exemples de movies avec leur genres_list :\n",
      " movie_id                                                title                     genres_list\n",
      "        1                                     Toy Story (1995) [Animation, Children's, Comedy]\n",
      "        2                                     GoldenEye (1995)   [Action, Adventure, Thriller]\n",
      "        3                                    Four Rooms (1995)                      [Thriller]\n",
      "        4                                    Get Shorty (1995)         [Action, Comedy, Drama]\n",
      "        5                                       Copycat (1995)        [Crime, Drama, Thriller]\n",
      "        6 Shanghai Triad (Yao a yao yao dao waipo qiao) (1995)                         [Drama]\n",
      "        7                                Twelve Monkeys (1995)                 [Drama, Sci-Fi]\n",
      "        8                                          Babe (1995)     [Children's, Comedy, Drama]\n"
     ]
    }
   ],
   "source": [
    "movies['genres_list'] = movies[genres].apply(lambda row: list(row[row == 1].index), axis=1)\n",
    "\n",
    "# Quelques vérifications rapides :\n",
    "print(\"Exemples de movies avec leur genres_list :\")\n",
    "print(movies[['movie_id','title','genres_list']].head(8).to_string(index=False))\n"
   ]
  },
  {
   "cell_type": "code",
   "execution_count": 7,
   "id": "5b11a9dd",
   "metadata": {},
   "outputs": [
    {
     "name": "stdout",
     "output_type": "stream",
     "text": [
      "Nombre de films sans genre détecté : 0\n"
     ]
    }
   ],
   "source": [
    "# Vérifier qu'il n'y a pas de films sans genre (si min == 0 -> film sans genre)\n",
    "num_no_genre = (movies['genres_list'].apply(len) == 0).sum()\n",
    "print(\"Nombre de films sans genre détecté :\", num_no_genre)\n",
    "if num_no_genre > 0:\n",
    "    print(\"Exemples de films sans genre :\")\n",
    "    print(movies.loc[movies['genres_list'].apply(len) == 0, ['movie_id','title']].head().to_string(index=False))\n"
   ]
  },
  {
   "cell_type": "code",
   "execution_count": 8,
   "id": "17a26486",
   "metadata": {},
   "outputs": [
    {
     "name": "stdout",
     "output_type": "stream",
     "text": [
      "Vérifier quelques lignes du DataFrame final :\n",
      " user_id  movie_id                                                                       title                           genres_list  rating\n",
      "     196       242                                                                Kolya (1996)                              [Comedy]       3\n",
      "     186       302                                                    L.A. Confidential (1997) [Crime, Film-Noir, Mystery, Thriller]       3\n",
      "      22       377                                                         Heavyweights (1994)                  [Children's, Comedy]       1\n",
      "     244        51                                                  Legends of the Fall (1994)        [Drama, Romance, War, Western]       2\n",
      "     166       346                                                         Jackie Brown (1997)                        [Crime, Drama]       1\n",
      "     298       474 Dr. Strangelove or: How I Learned to Stop Worrying and Love the Bomb (1963)                         [Sci-Fi, War]       4\n",
      "     115       265                                            Hunt for Red October, The (1990)                    [Action, Thriller]       2\n",
      "     253       465                                                     Jungle Book, The (1994)      [Adventure, Children's, Romance]       5\n",
      "     305       451                                                               Grease (1978)            [Comedy, Musical, Romance]       3\n",
      "       6        86                                              Remains of the Day, The (1993)                               [Drama]       3\n"
     ]
    }
   ],
   "source": [
    "df = ratings.merge(movies, on='movie_id', how='left')\n",
    "df = df.merge(users, on='user_id', how='left')\n",
    "\n",
    "print(\"Vérifier quelques lignes du DataFrame final :\")\n",
    "print(df[['user_id','movie_id','title','genres_list','rating']].head(10).to_string(index=False))\n"
   ]
  },
  {
   "cell_type": "code",
   "execution_count": 9,
   "id": "45b1170c",
   "metadata": {},
   "outputs": [
    {
     "name": "stdout",
     "output_type": "stream",
     "text": [
      "Shape final: (100000, 32)\n",
      "Nombre de valeurs null dans genres_list : 0\n"
     ]
    }
   ],
   "source": [
    "\n",
    "# 7) Contrôles supplémentaires sur le df final\n",
    "print(\"Shape final:\", df.shape)\n",
    "print(\"Nombre de valeurs null dans genres_list :\", df['genres_list'].isnull().sum())"
   ]
  },
  {
   "cell_type": "code",
   "execution_count": 10,
   "id": "420ae1b3",
   "metadata": {},
   "outputs": [
    {
     "name": "stdout",
     "output_type": "stream",
     "text": [
      "@ DataFrame sauvegardé en movieclean.csv\n"
     ]
    }
   ],
   "source": [
    "# Sauvegarder le DataFrame final en CSV\n",
    "df.to_csv(\"movieclean.csv\", index=False, encoding=\"utf-8\")\n",
    "\n",
    "print(\"@ DataFrame sauvegardé en movieclean.csv\")\n"
   ]
  },
  {
   "cell_type": "code",
   "execution_count": 11,
   "id": "494c9893",
   "metadata": {},
   "outputs": [
    {
     "name": "stdout",
     "output_type": "stream",
     "text": [
      "   user_id  movie_id  rating  timestamp                       title  \\\n",
      "0      196       242       3  881250949                Kolya (1996)   \n",
      "1      186       302       3  891717742    L.A. Confidential (1997)   \n",
      "2       22       377       1  878887116         Heavyweights (1994)   \n",
      "3      244        51       2  880606923  Legends of the Fall (1994)   \n",
      "4      166       346       1  886397596         Jackie Brown (1997)   \n",
      "\n",
      "  release_date  video_release_date  \\\n",
      "0  24-Jan-1997                 NaN   \n",
      "1  01-Jan-1997                 NaN   \n",
      "2  01-Jan-1994                 NaN   \n",
      "3  01-Jan-1994                 NaN   \n",
      "4  01-Jan-1997                 NaN   \n",
      "\n",
      "                                            imdb_url  unknown  Action  ...  \\\n",
      "0    http://us.imdb.com/M/title-exact?Kolya%20(1996)        0       0  ...   \n",
      "1  http://us.imdb.com/M/title-exact?L%2EA%2E+Conf...        0       0  ...   \n",
      "2  http://us.imdb.com/M/title-exact?Heavyweights%...        0       0  ...   \n",
      "3  http://us.imdb.com/M/title-exact?Legends%20of%...        0       0  ...   \n",
      "4  http://us.imdb.com/M/title-exact?imdb-title-11...        0       0  ...   \n",
      "\n",
      "   Romance  Sci-Fi  Thriller  War  Western  \\\n",
      "0        0       0         0    0        0   \n",
      "1        0       0         1    0        0   \n",
      "2        0       0         0    0        0   \n",
      "3        1       0         0    1        1   \n",
      "4        0       0         0    0        0   \n",
      "\n",
      "                                     genres_list  age  gender  occupation  \\\n",
      "0                                     ['Comedy']   49       M      writer   \n",
      "1  ['Crime', 'Film-Noir', 'Mystery', 'Thriller']   39       F   executive   \n",
      "2                       [\"Children's\", 'Comedy']   25       M      writer   \n",
      "3         ['Drama', 'Romance', 'War', 'Western']   28       M  technician   \n",
      "4                             ['Crime', 'Drama']   47       M    educator   \n",
      "\n",
      "   zip_code  \n",
      "0     55105  \n",
      "1     00000  \n",
      "2     40206  \n",
      "3     80525  \n",
      "4     55113  \n",
      "\n",
      "[5 rows x 32 columns]\n"
     ]
    }
   ],
   "source": [
    "\n",
    "\n",
    "df = pd.read_csv(\"movieclean.csv\")\n",
    "print(df.head())\n"
   ]
  },
  {
   "cell_type": "code",
   "execution_count": 12,
   "id": "fc7eda63",
   "metadata": {},
   "outputs": [
    {
     "name": "stdout",
     "output_type": "stream",
     "text": [
      "Index(['user_id', 'movie_id', 'rating', 'timestamp', 'title', 'release_date',\n",
      "       'video_release_date', 'imdb_url', 'unknown', 'Action', 'Adventure',\n",
      "       'Animation', 'Children's', 'Comedy', 'Crime', 'Documentary', 'Drama',\n",
      "       'Fantasy', 'Film-Noir', 'Horror', 'Musical', 'Mystery', 'Romance',\n",
      "       'Sci-Fi', 'Thriller', 'War', 'Western', 'genres_list', 'age', 'gender',\n",
      "       'occupation', 'zip_code'],\n",
      "      dtype='object')\n"
     ]
    }
   ],
   "source": [
    "print(df.columns)\n"
   ]
  },
  {
   "cell_type": "code",
   "execution_count": 13,
   "id": "42862f34",
   "metadata": {},
   "outputs": [
    {
     "name": "stdout",
     "output_type": "stream",
     "text": [
      "Index(['user_id', 'movie_id', 'rating', 'timestamp', 'title', 'release_date',\n",
      "       'video_release_date', 'imdb_url', 'genres_list', 'age', 'gender',\n",
      "       'occupation', 'zip_code'],\n",
      "      dtype='object')\n"
     ]
    }
   ],
   "source": [
    "cols_to_drop = ['unknown', 'Action', 'Adventure', 'Animation', \"Children's\",\n",
    "                'Comedy', 'Crime', 'Documentary', 'Drama', 'Fantasy', \n",
    "                'Film-Noir', 'Horror', 'Musical', 'Mystery', 'Romance', \n",
    "                'Sci-Fi', 'Thriller', 'War', 'Western']\n",
    "df = df.drop(columns=cols_to_drop)\n",
    "print (df.columns)"
   ]
  },
  {
   "cell_type": "code",
   "execution_count": 14,
   "id": "5c1e63fd",
   "metadata": {},
   "outputs": [
    {
     "name": "stdout",
     "output_type": "stream",
     "text": [
      "                                               title  \\\n",
      "0                                       Kolya (1996)   \n",
      "1                           L.A. Confidential (1997)   \n",
      "2                                Heavyweights (1994)   \n",
      "3                         Legends of the Fall (1994)   \n",
      "4                                Jackie Brown (1997)   \n",
      "5  Dr. Strangelove or: How I Learned to Stop Worr...   \n",
      "6                   Hunt for Red October, The (1990)   \n",
      "7                            Jungle Book, The (1994)   \n",
      "8                                      Grease (1978)   \n",
      "9                     Remains of the Day, The (1993)   \n",
      "\n",
      "                                     genres_list  \n",
      "0                                     ['Comedy']  \n",
      "1  ['Crime', 'Film-Noir', 'Mystery', 'Thriller']  \n",
      "2                       [\"Children's\", 'Comedy']  \n",
      "3         ['Drama', 'Romance', 'War', 'Western']  \n",
      "4                             ['Crime', 'Drama']  \n",
      "5                              ['Sci-Fi', 'War']  \n",
      "6                         ['Action', 'Thriller']  \n",
      "7         ['Adventure', \"Children's\", 'Romance']  \n",
      "8               ['Comedy', 'Musical', 'Romance']  \n",
      "9                                      ['Drama']  \n"
     ]
    }
   ],
   "source": [
    "print(df[['title', 'genres_list']].head(10))"
   ]
  },
  {
   "cell_type": "code",
   "execution_count": 15,
   "id": "9c9611ab",
   "metadata": {},
   "outputs": [
    {
     "name": "stdout",
     "output_type": "stream",
     "text": [
      "0\n"
     ]
    }
   ],
   "source": [
    "# Vérifie les doublons exacts sur toutes les colonnes\n",
    "print(df.duplicated().sum())\n",
    "\n",
    "# Si tu veux supprimer les doublons exacts\n",
    "df = df.drop_duplicates()\n"
   ]
  },
  {
   "cell_type": "code",
   "execution_count": 16,
   "id": "ab8ab700",
   "metadata": {},
   "outputs": [
    {
     "name": "stdout",
     "output_type": "stream",
     "text": [
      "user_id                    0\n",
      "movie_id                   0\n",
      "rating                     0\n",
      "timestamp                  0\n",
      "title                      0\n",
      "release_date               9\n",
      "video_release_date    100000\n",
      "imdb_url                  13\n",
      "genres_list                0\n",
      "age                        0\n",
      "gender                     0\n",
      "occupation                 0\n",
      "zip_code                   0\n",
      "dtype: int64\n"
     ]
    }
   ],
   "source": [
    "# Compte des valeurs manquantes par colonne\n",
    "print(df.isnull().sum())\n"
   ]
  },
  {
   "cell_type": "code",
   "execution_count": 17,
   "id": "7fa0e70c",
   "metadata": {},
   "outputs": [
    {
     "name": "stdout",
     "output_type": "stream",
     "text": [
      "user_id         0\n",
      "movie_id        0\n",
      "rating          0\n",
      "timestamp       0\n",
      "title           0\n",
      "release_date    0\n",
      "imdb_url        0\n",
      "genres_list     0\n",
      "age             0\n",
      "gender          0\n",
      "occupation      0\n",
      "zip_code        0\n",
      "dtype: int64\n",
      "✅ Données nettoyées et sauvegardées dans movieclean1.csv\n"
     ]
    }
   ],
   "source": [
    "# 1. Supprimer les lignes avec release_date manquante\n",
    "df = df.dropna(subset=['release_date'])\n",
    "\n",
    "# 2. Supprimer les lignes avec imdb_url manquante\n",
    "df = df.dropna(subset=['imdb_url'])\n",
    "\n",
    "# 3. Supprimer la colonne video_release_date\n",
    "df = df.drop(columns=['video_release_date'])\n",
    "\n",
    "# Vérifier qu'il n'y a plus de valeurs nulles\n",
    "print(df.isnull().sum())\n",
    "\n",
    "# Sauvegarder la nouvelle version nettoyée\n",
    "df.to_csv(\"movieclean1.csv\", index=False, encoding=\"utf-8\")\n",
    "print(\"✅ Données nettoyées et sauvegardées dans movieclean1.csv\")"
   ]
  },
  {
   "cell_type": "code",
   "execution_count": 18,
   "id": "3a65f1fa",
   "metadata": {},
   "outputs": [
    {
     "name": "stdout",
     "output_type": "stream",
     "text": [
      "   user_id  movie_id  rating\n",
      "0      196       242       3\n",
      "1      186       302       3\n",
      "2       22       377       1\n",
      "3      244        51       2\n",
      "4      166       346       1\n"
     ]
    }
   ],
   "source": [
    "df = pd.read_csv(\"movieclean.csv\")\n",
    "\n",
    "# Vérifier\n",
    "print(df[['user_id', 'movie_id', 'rating']].head())"
   ]
  },
  {
   "cell_type": "code",
   "execution_count": 19,
   "id": "2f46f523",
   "metadata": {},
   "outputs": [
    {
     "name": "stdout",
     "output_type": "stream",
     "text": [
      "(943, 1682)\n"
     ]
    }
   ],
   "source": [
    "#construire la matrice user-film\n",
    "user_movie_matrix = df.pivot_table(\n",
    "    index='user_id',\n",
    "    columns='movie_id',\n",
    "    values='rating'\n",
    ").fillna(0)  # Remplacer les NaN (films non notés) par 0\n",
    "\n",
    "print(user_movie_matrix.shape)  \n"
   ]
  },
  {
   "cell_type": "code",
   "execution_count": 20,
   "id": "658e46e4",
   "metadata": {},
   "outputs": [
    {
     "name": "stdout",
     "output_type": "stream",
     "text": [
      "user_id       1         2         3         4         5         6         7    \\\n",
      "user_id                                                                         \n",
      "1        1.000000  0.166931  0.047460  0.064358  0.378475  0.430239  0.440367   \n",
      "2        0.166931  1.000000  0.110591  0.178121  0.072979  0.245843  0.107328   \n",
      "3        0.047460  0.110591  1.000000  0.344151  0.021245  0.072415  0.066137   \n",
      "4        0.064358  0.178121  0.344151  1.000000  0.031804  0.068044  0.091230   \n",
      "5        0.378475  0.072979  0.021245  0.031804  1.000000  0.237286  0.373600   \n",
      "\n",
      "user_id       8         9         10   ...       934       935       936  \\\n",
      "user_id                                ...                                 \n",
      "1        0.319072  0.078138  0.376544  ...  0.369527  0.119482  0.274876   \n",
      "2        0.103344  0.161048  0.159862  ...  0.156986  0.307942  0.358789   \n",
      "3        0.083060  0.061040  0.065151  ...  0.031875  0.042753  0.163829   \n",
      "4        0.188060  0.101284  0.060859  ...  0.052107  0.036784  0.133115   \n",
      "5        0.248930  0.056847  0.201427  ...  0.338794  0.080580  0.094924   \n",
      "\n",
      "user_id       937       938       939       940       941       942       943  \n",
      "user_id                                                                        \n",
      "1        0.189705  0.197326  0.118095  0.314072  0.148617  0.179508  0.398175  \n",
      "2        0.424046  0.319889  0.228583  0.226790  0.161485  0.172268  0.105798  \n",
      "3        0.069038  0.124245  0.026271  0.161890  0.101243  0.133416  0.026556  \n",
      "4        0.193471  0.146058  0.030138  0.196858  0.152041  0.170086  0.058752  \n",
      "5        0.079779  0.148607  0.071459  0.239955  0.139595  0.152497  0.313941  \n",
      "\n",
      "[5 rows x 943 columns]\n"
     ]
    }
   ],
   "source": [
    "#Calculer la similarité entre utilisateurs\n",
    "from sklearn.metrics.pairwise import cosine_similarity\n",
    "\n",
    "# Calculer la similarité cosinus entre les lignes (utilisateurs)\n",
    "user_similarity = cosine_similarity(user_movie_matrix)\n",
    "\n",
    "# Mettre dans un DataFrame pour lisibilité\n",
    "import numpy as np\n",
    "user_similarity_df = pd.DataFrame(\n",
    "    user_similarity, \n",
    "    index=user_movie_matrix.index,   # index = user_id\n",
    "    columns=user_movie_matrix.index  # colonnes = user_id aussi\n",
    ")\n",
    "\n",
    "print(user_similarity_df.head())\n"
   ]
  },
  {
   "cell_type": "code",
   "execution_count": 21,
   "id": "f1dac98f",
   "metadata": {},
   "outputs": [],
   "source": [
    "def recommend_movies(user_id, user_movie_matrix, user_similarity_df, movie_titles, top_n=5):\n",
    "    \"\"\"\n",
    "    Recommande des films pour un utilisateur donné (user_id) en utilisant User-Based Collaborative Filtering.\n",
    "    Retourne les movie_id et les titres.\n",
    "    \"\"\"\n",
    "\n",
    "    # Étape 1 : trouver les utilisateurs les plus similaires à l'utilisateur cible\n",
    "    similar_users = user_similarity_df[user_id].sort_values(ascending=False).index[1:]\n",
    "    # [1:] car la première valeur = soi-même (sim=1)\n",
    "\n",
    "    # Étape 2 : récupérer les notes de l'utilisateur cible\n",
    "    user_ratings = user_movie_matrix.loc[user_id]\n",
    "\n",
    "    # Étape 2b : films déjà vus\n",
    "    seen_movies = user_ratings[user_ratings > 0].index\n",
    "\n",
    "    # Étape 3 : dictionnaire pour accumuler les scores des films\n",
    "    movie_scores = {}\n",
    "\n",
    "    # On prend les 10 plus proches voisins\n",
    "    for sim_user in similar_users[:10]:\n",
    "        sim_score = user_similarity_df[user_id][sim_user]\n",
    "        sim_user_ratings = user_movie_matrix.loc[sim_user]\n",
    "\n",
    "        for movie, rating in sim_user_ratings.items():\n",
    "            if movie not in seen_movies and rating > 0:\n",
    "                if movie not in movie_scores:\n",
    "                    movie_scores[movie] = 0\n",
    "                movie_scores[movie] += sim_score * rating\n",
    "\n",
    "    # Étape 4 : trier les films par score\n",
    "    recommended_movies = sorted(movie_scores.items(), key=lambda x: x[1], reverse=True)[:top_n]\n",
    "\n",
    "    # Étape 5 : retourner (movie_id, titre) pour chaque film recommandé\n",
    "    return [(movie, movie_titles.get(movie, \"Unknown Title\")) for movie, score in recommended_movies]\n"
   ]
  },
  {
   "cell_type": "code",
   "execution_count": 22,
   "id": "fe8d2741",
   "metadata": {},
   "outputs": [
    {
     "name": "stdout",
     "output_type": "stream",
     "text": [
      "🎬 Films recommandés :\n",
      "318 - Schindler's List (1993)\n",
      "474 - Dr. Strangelove or: How I Learned to Stop Worrying and Love the Bomb (1963)\n",
      "655 - Stand by Me (1986)\n",
      "423 - E.T. the Extra-Terrestrial (1982)\n",
      "403 - Batman (1989)\n"
     ]
    }
   ],
   "source": [
    "# Construire le dictionnaire movie_id -> title\n",
    "movie_titles = df[['movie_id', 'title']].drop_duplicates().set_index('movie_id')['title'].to_dict()\n",
    "\n",
    "# Obtenir les recommandations pour l’utilisateur 1\n",
    "recommended = recommend_movies(1, user_movie_matrix, user_similarity_df, movie_titles, top_n=5)\n",
    "\n",
    "print(\"🎬 Films recommandés :\")\n",
    "for mid, title in recommended:\n",
    "    print(f\"{mid} - {title}\")\n"
   ]
  },
  {
   "cell_type": "code",
   "execution_count": 50,
   "id": "7b7b5940",
   "metadata": {},
   "outputs": [
    {
     "name": "stdout",
     "output_type": "stream",
     "text": [
      "📊 Average Precision@5 = 0.34\n"
     ]
    }
   ],
   "source": [
    "\n",
    "from sklearn.metrics.pairwise import cosine_similarity\n",
    "from sklearn.model_selection import train_test_split\n",
    "\n",
    "# Charger le dataset nettoyé\n",
    "df = pd.read_csv(\"movieclean.csv\")\n",
    "\n",
    "# 1️⃣ Split train/test (80% - 20%)\n",
    "train, test = train_test_split(df, test_size=0.2, random_state=42)\n",
    "\n",
    "# 2️⃣ Construire la matrice user-movie avec le TRAIN\n",
    "user_movie_matrix = train.pivot_table(\n",
    "    index='user_id',\n",
    "    columns='movie_id',\n",
    "    values='rating'\n",
    ").fillna(0)\n",
    "\n",
    "# 3️⃣ Calculer la similarité entre utilisateurs\n",
    "user_similarity = cosine_similarity(user_movie_matrix)\n",
    "user_similarity_df = pd.DataFrame(\n",
    "    user_similarity,\n",
    "    index=user_movie_matrix.index,\n",
    "    columns=user_movie_matrix.index\n",
    ")\n",
    "\n",
    "# 4️⃣ Dictionnaire movie_id -> title\n",
    "movie_titles = df[['movie_id', 'title']].drop_duplicates().set_index('movie_id')['title'].to_dict()\n",
    "\n",
    "# 5️⃣ Fonction de recommandation (identique à avant mais adaptée au train)\n",
    "def recommend_movies(user_id, user_movie_matrix, user_similarity_df, movie_titles, top_n=10):\n",
    "    if user_id not in user_movie_matrix.index:\n",
    "        return []  # utilisateur pas présent dans le train\n",
    "    \n",
    "    similar_users = user_similarity_df[user_id].sort_values(ascending=False).index[1:]\n",
    "    user_ratings = user_movie_matrix.loc[user_id]\n",
    "    seen_movies = user_ratings[user_ratings > 0].index\n",
    "\n",
    "    movie_scores = {}\n",
    "    for sim_user in similar_users[:10]:\n",
    "        sim_score = user_similarity_df[user_id][sim_user]\n",
    "        sim_user_ratings = user_movie_matrix.loc[sim_user]\n",
    "\n",
    "        for movie, rating in sim_user_ratings.items():\n",
    "            if movie not in seen_movies and rating > 0:\n",
    "                if movie not in movie_scores:\n",
    "                    movie_scores[movie] = 0\n",
    "                movie_scores[movie] += sim_score * rating\n",
    "\n",
    "    recommended_movies = sorted(movie_scores.items(), key=lambda x: x[1], reverse=True)[:top_n]\n",
    "    return [movie for movie, score in recommended_movies]\n",
    "\n",
    "# 6️⃣ Fonction Precision@K\n",
    "# Fonction pour calculer Precision@K moyenne sur tous les utilisateurs\n",
    "def average_precision_at_k(user_movie_matrix, user_similarity_df, movie_titles, test, k=4, top_n=10, threshold=3.0):\n",
    "    users = test['user_id'].unique()\n",
    "    precisions = []\n",
    "\n",
    "    for user_id in users:\n",
    "        # Générer les recommandations pour cet utilisateur\n",
    "        recommended = recommend_movies(user_id, user_movie_matrix, user_similarity_df, movie_titles, top_n=top_n)\n",
    "        \n",
    "        # Calculer Precision@K pour cet utilisateur\n",
    "        relevant = test[(test['user_id'] == user_id) & (test['rating'] >= threshold)]['movie_id'].tolist()\n",
    "        if len(relevant) == 0:\n",
    "            continue  # ignorer si pas de films pertinents\n",
    "\n",
    "        hits = set(recommended[:k]).intersection(set(relevant))\n",
    "        precisions.append(len(hits) / k)\n",
    "    \n",
    "    if len(precisions) == 0:\n",
    "        return 0\n",
    "    return sum(precisions) / len(precisions)\n",
    "\n",
    "# Calcul Precision@K moyenne\n",
    "avg_precision = average_precision_at_k(user_movie_matrix, user_similarity_df, movie_titles, test, k=4, top_n=10, threshold=3.0)\n",
    "print(f\"📊 Average Precision@5 = {avg_precision:.2f}\")\n"
   ]
  },
  {
   "cell_type": "code",
   "execution_count": null,
   "id": "218c572b",
   "metadata": {},
   "outputs": [
    {
     "name": "stdout",
     "output_type": "stream",
     "text": [
      "Collecting scikit-surprise\n",
      "  Downloading scikit_surprise-1.1.4.tar.gz (154 kB)\n",
      "  Installing build dependencies: started\n",
      "  Installing build dependencies: finished with status 'done'\n",
      "  Getting requirements to build wheel: started\n",
      "  Getting requirements to build wheel: finished with status 'done'\n",
      "  Preparing metadata (pyproject.toml): started\n",
      "  Preparing metadata (pyproject.toml): finished with status 'done'\n",
      "Requirement already satisfied: joblib>=1.2.0 in c:\\users\\rania\\appdata\\local\\programs\\python\\python310\\lib\\site-packages (from scikit-surprise) (1.4.2)\n",
      "Requirement already satisfied: numpy>=1.19.5 in c:\\users\\rania\\appdata\\local\\programs\\python\\python310\\lib\\site-packages (from scikit-surprise) (1.26.4)\n",
      "Requirement already satisfied: scipy>=1.6.0 in c:\\users\\rania\\appdata\\local\\programs\\python\\python310\\lib\\site-packages (from scikit-surprise) (1.15.2)\n",
      "Building wheels for collected packages: scikit-surprise\n",
      "  Building wheel for scikit-surprise (pyproject.toml): started\n",
      "  Building wheel for scikit-surprise (pyproject.toml): finished with status 'done'\n",
      "  Created wheel for scikit-surprise: filename=scikit_surprise-1.1.4-cp310-cp310-win_amd64.whl size=1294141 sha256=daaa7defbd4ad341409a3096ec858eef5a92ed731770b8e6e0fff29b090811f2\n",
      "  Stored in directory: c:\\users\\rania\\appdata\\local\\pip\\cache\\wheels\\4b\\3f\\df\\6acbf0a40397d9bf3ff97f582cc22fb9ce66adde75bc71fd54\n",
      "Successfully built scikit-surprise\n",
      "Installing collected packages: scikit-surprise\n",
      "Successfully installed scikit-surprise-1.1.4\n"
     ]
    }
   ],
   "source": []
  },
  {
   "cell_type": "code",
   "execution_count": null,
   "id": "0d63fcc8",
   "metadata": {},
   "outputs": [
    {
     "name": "stdout",
     "output_type": "stream",
     "text": [
      "RMSE: 0.9542\n",
      "🎬 Recommandations pour user 1 : ['Boot, Das (1981)', 'Fried Green Tomatoes (1991)', 'Secrets & Lies (1996)', 'Lawrence of Arabia (1962)', 'Butch Cassidy and the Sundance Kid (1969)']\n"
     ]
    }
   ],
   "source": []
  },
  {
   "cell_type": "code",
   "execution_count": null,
   "id": "aec5b340",
   "metadata": {},
   "outputs": [
    {
     "name": "stdout",
     "output_type": "stream",
     "text": [
      "📊 Average Precision@5 = 0.00\n"
     ]
    }
   ],
   "source": []
  },
  {
   "cell_type": "code",
   "execution_count": null,
   "id": "ec2cee7c",
   "metadata": {},
   "outputs": [],
   "source": []
  },
  {
   "cell_type": "code",
   "execution_count": null,
   "id": "fd7ddc19",
   "metadata": {},
   "outputs": [],
   "source": []
  },
  {
   "cell_type": "code",
   "execution_count": null,
   "id": "99034274",
   "metadata": {},
   "outputs": [],
   "source": []
  },
  {
   "cell_type": "code",
   "execution_count": null,
   "id": "f88615c0",
   "metadata": {},
   "outputs": [],
   "source": []
  }
 ],
 "metadata": {
  "kernelspec": {
   "display_name": "Python 3",
   "language": "python",
   "name": "python3"
  },
  "language_info": {
   "codemirror_mode": {
    "name": "ipython",
    "version": 3
   },
   "file_extension": ".py",
   "mimetype": "text/x-python",
   "name": "python",
   "nbconvert_exporter": "python",
   "pygments_lexer": "ipython3",
   "version": "3.10.0"
  }
 },
 "nbformat": 4,
 "nbformat_minor": 5
}
